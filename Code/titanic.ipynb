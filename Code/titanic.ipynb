{
 "cells": [
  {
   "cell_type": "code",
   "execution_count": 1,
   "metadata": {},
   "outputs": [],
   "source": [
    "import math\n",
    "import random\n",
    "import numpy as np\n",
    "import pandas as pd\n",
    "import matplotlib.pyplot as plt\n",
    "from sklearn.model_selection import train_test_split\n",
    "from sklearn.preprocessing import Imputer"
   ]
  },
  {
   "cell_type": "code",
   "execution_count": 2,
   "metadata": {},
   "outputs": [],
   "source": [
    "# == Read raw data\n",
    "titanic_train = pd.read_csv(\"../Data/train.csv\")\n",
    "titanic_test = pd.read_csv(\"../Data/test.csv\")\n",
    "\n",
    "# Now we only consider the train data set of titanic data set\n",
    "X = titanic_train.drop('Survived', axis = 1)\n",
    "y = titanic_train.Survived"
   ]
  },
  {
   "cell_type": "code",
   "execution_count": 3,
   "metadata": {
    "scrolled": true
   },
   "outputs": [
    {
     "name": "stdout",
     "output_type": "stream",
     "text": [
      "(891, 11)\n",
      "(891, 8)\n",
      "Index(['Pclass', 'Age', 'SibSp', 'Parch', 'Fare', 'Sex_male', 'Embarked_Q',\n",
      "       'Embarked_S'],\n",
      "      dtype='object')\n",
      "(714, 8)\n"
     ]
    }
   ],
   "source": [
    "# == Preprocessing of the modeling data\n",
    "# drop columns don't go into model\n",
    "X_model = X.drop(['PassengerId', 'Name', 'Ticket', 'Cabin'], axis = 1)\n",
    "\n",
    "# transfer object variables to dummies\n",
    "X_dummy = pd.get_dummies(X_model, drop_first=True)\n",
    "print(X.shape)\n",
    "print(X_dummy.shape)\n",
    "\n",
    "# NA manipulation\n",
    "X_dummy_clean = X_dummy.dropna()\n",
    "print(X_dummy.columns)\n",
    "print(X_dummy_clean.shape)\n",
    "\n",
    "# split the data to train and test\n",
    "X_train, X_test, y_train, y_test = train_test_split(X_dummy_clean, y[X_dummy_clean.index], test_size = 0.2, random_state = 2333)"
   ]
  },
  {
   "cell_type": "code",
   "execution_count": 4,
   "metadata": {
    "scrolled": false
   },
   "outputs": [
    {
     "name": "stdout",
     "output_type": "stream",
     "text": [
      "0.48834415378484247\n"
     ]
    }
   ],
   "source": [
    "# == Linear Regression\n",
    "from sklearn.linear_model import LinearRegression\n",
    "\n",
    "linear_reg = LinearRegression()\n",
    "linear_reg.fit(X_train, y_train)\n",
    "linear_pred = linear_reg.predict(X_test)\n",
    "\n",
    "print(linear_reg.score(X_test, y_test))\n",
    "# plt.hist(linear_pred)"
   ]
  },
  {
   "cell_type": "code",
   "execution_count": 5,
   "metadata": {},
   "outputs": [
    {
     "name": "stdout",
     "output_type": "stream",
     "text": [
      "0.8181818181818182\n",
      "[[70 11]\n",
      " [15 47]]\n"
     ]
    }
   ],
   "source": [
    "# == Logistic Regression\n",
    "from sklearn.linear_model import LogisticRegression\n",
    "from sklearn.model_selection import GridSearchCV\n",
    "from sklearn.metrics import confusion_matrix\n",
    "\n",
    "log_reg = LogisticRegression()\n",
    "log_reg.fit(X_train, y_train)\n",
    "log_pred = log_reg.predict(X_test)\n",
    "\n",
    "print(log_reg.score(X_test, y_test))\n",
    "print(confusion_matrix(y_test, log_pred))\n",
    "# plt.hist(log_pred)"
   ]
  },
  {
   "cell_type": "code",
   "execution_count": 6,
   "metadata": {},
   "outputs": [
    {
     "name": "stdout",
     "output_type": "stream",
     "text": [
      "0.8251748251748252\n",
      "[[70 11]\n",
      " [14 48]]\n"
     ]
    }
   ],
   "source": [
    "# -- Scaling\n",
    "from sklearn.preprocessing import StandardScaler\n",
    "from sklearn.pipeline import Pipeline\n",
    "\n",
    "steps = [('scaler', StandardScaler()), \n",
    "         ('logistic', LogisticRegression())]\n",
    "pipeline = Pipeline(steps)\n",
    "\n",
    "pipeline.fit(X_train, y_train)\n",
    "pip_pred = pipeline.predict(X_test)\n",
    "\n",
    "print(pipeline.score(X_test, y_test))\n",
    "print(confusion_matrix(y_test, pip_pred))"
   ]
  },
  {
   "cell_type": "code",
   "execution_count": 10,
   "metadata": {},
   "outputs": [
    {
     "name": "stdout",
     "output_type": "stream",
     "text": [
      "{'logistic__C': 0.8685113737513529, 'logistic__penalty': 'l2'}\n",
      "0.8251748251748252\n",
      "[[70 11]\n",
      " [14 48]]\n"
     ]
    }
   ],
   "source": [
    "# -- Tunning parameters\n",
    "from sklearn.model_selection import GridSearchCV\n",
    "\n",
    "log_param = {'logistic__C' : np.logspace(-2, 3, 50),\n",
    "             'logistic__penalty' : ['l1', 'l2']}\n",
    "\n",
    "cv = GridSearchCV(estimator = pipeline, param_grid = log_param, cv = 5, scoring = 'accuracy')\n",
    "\n",
    "cv.fit(X_train, y_train)\n",
    "cv_pred = cv.predict(X_test)\n",
    "\n",
    "print(cv.best_params_)\n",
    "print(cv.score(X_test, y_test))\n",
    "print(confusion_matrix(y_test, cv_pred))"
   ]
  },
  {
   "cell_type": "code",
   "execution_count": 7,
   "metadata": {},
   "outputs": [
    {
     "name": "stdout",
     "output_type": "stream",
     "text": [
      "{'knn__n_neighbors': 7}\n",
      "0.8391608391608392\n",
      "[[74  7]\n",
      " [16 46]]\n"
     ]
    }
   ],
   "source": [
    "# == KNN\n",
    "from sklearn.neighbors import KNeighborsClassifier\n",
    "\n",
    "steps = [('scaler', StandardScaler()),\n",
    "         ('knn', KNeighborsClassifier())]\n",
    "\n",
    "pipeline = Pipeline(steps)\n",
    "knn_param = {'knn__n_neighbors' : np.arange(1, 11)}\n",
    "\n",
    "cv = GridSearchCV(estimator = pipeline, param_grid = knn_param, cv = 5, scoring = 'accuracy')\n",
    "\n",
    "cv.fit(X_train, y_train)\n",
    "cv_pred = cv.predict(X_test)\n",
    "\n",
    "print(cv.best_params_)\n",
    "print(cv.score(X_test, y_test))\n",
    "print(confusion_matrix(y_test, cv_pred))"
   ]
  },
  {
   "cell_type": "code",
   "execution_count": 18,
   "metadata": {},
   "outputs": [
    {
     "name": "stdout",
     "output_type": "stream",
     "text": [
      "0.7972027972027972\n",
      "[[69 12]\n",
      " [17 45]]\n"
     ]
    }
   ],
   "source": [
    "# == SVM\n",
    "# -- Linear SVM\n",
    "from sklearn.svm import SVC\n",
    "\n",
    "linear_svm = SVC(kernel = 'linear')\n",
    "linear_svm.fit(X_train, y_train)\n",
    "linear_svm_pred = linear_svm.predict(X_test)\n",
    "\n",
    "print(linear_svm.score(X_test, y_test))\n",
    "print(confusion_matrix(y_test, linear_svm_pred))"
   ]
  },
  {
   "cell_type": "code",
   "execution_count": 44,
   "metadata": {},
   "outputs": [
    {
     "name": "stdout",
     "output_type": "stream",
     "text": [
      "Original data size is  (571, 8)  and support data size is  (161, 8)\n",
      "0.7972027972027972\n",
      "[[69 12]\n",
      " [17 45]]\n"
     ]
    }
   ],
   "source": [
    "# -- Properties of SVM, only support vectors would affect the model train\n",
    "svm_small = SVC(kernel = 'linear')\n",
    "X_small = X_train.reindex(linear_svm.support_).dropna()\n",
    "y_small = y_train.reindex(linear_svm.support_).dropna()\n",
    "print('Original data size is ', X_train.shape, \" and support data size is \", X_small.shape)\n",
    "svm_small.fit(X_small, y_small)\n",
    "svm_small_pred = svm_small.predict(X_test)\n",
    "\n",
    "print(svm_small.score(X_test, y_test))\n",
    "print(confusion_matrix(y_test, svm_small_pred))"
   ]
  },
  {
   "cell_type": "code",
   "execution_count": 45,
   "metadata": {},
   "outputs": [
    {
     "name": "stdout",
     "output_type": "stream",
     "text": [
      "{'svm__C': 10, 'svm__gamma': 0.1}\n",
      "0.8251748251748252\n",
      "[[76  5]\n",
      " [20 42]]\n"
     ]
    }
   ],
   "source": [
    "# -- SVM with RBF kernel\n",
    "steps = [('scaler', StandardScaler()),\n",
    "         ('svm', SVC(kernel = 'rbf'))]\n",
    "\n",
    "pipeline = Pipeline(steps)\n",
    "svm_para = {'svm__C':[0.1, 1, 10],\n",
    "            'svm__gamma' : [0.00001, 0.0001, 0.001, 0.01, 0.1, 1, 10]}\n",
    "\n",
    "cv = GridSearchCV(estimator = pipeline, param_grid = svm_para, cv = 5)\n",
    "\n",
    "cv.fit(X_train, y_train)\n",
    "cv_pred = cv.predict(X_test)\n",
    "\n",
    "print(cv.best_params_)\n",
    "print(cv.score(X_test, y_test))\n",
    "print(confusion_matrix(y_test, cv_pred))"
   ]
  }
 ],
 "metadata": {
  "kernelspec": {
   "display_name": "Python 3",
   "language": "python",
   "name": "python3"
  },
  "language_info": {
   "codemirror_mode": {
    "name": "ipython",
    "version": 3
   },
   "file_extension": ".py",
   "mimetype": "text/x-python",
   "name": "python",
   "nbconvert_exporter": "python",
   "pygments_lexer": "ipython3",
   "version": "3.6.5"
  }
 },
 "nbformat": 4,
 "nbformat_minor": 2
}
